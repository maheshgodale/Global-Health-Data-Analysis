{
 "cells": [
  {
   "cell_type": "code",
   "execution_count": 0,
   "metadata": {
    "application/vnd.databricks.v1+cell": {
     "cellMetadata": {
      "byteLimit": 2048000,
      "rowLimit": 10000
     },
     "inputWidgets": {},
     "nuid": "a56eca56-256f-4fe3-b0c9-f8ea95393416",
     "showTitle": false,
     "tableResultSettingsMap": {},
     "title": ""
    }
   },
   "outputs": [
    {
     "output_type": "stream",
     "name": "stdout",
     "output_type": "stream",
     "text": [
      "+------------+----+-------------------+----------------+-------------------+------------------+------------------+---------+------+-------------------+---------------------+----------------+----------------------+--------------+----------------------------+----------------------------------+-----------------+-----+--------------------------+-----------------------+---------------+---------------------+\n|     Country|Year|       Disease Name|Disease Category|Prevalence Rate (%)|Incidence Rate (%)|Mortality Rate (%)|Age Group|Gender|Population Affected|Healthcare Access (%)|Doctors per 1000|Hospital Beds per 1000|Treatment Type|Average Treatment Cost (USD)|Availability of Vaccines/Treatment|Recovery Rate (%)|DALYs|Improvement in 5 Years (%)|Per Capita Income (USD)|Education Index|Urbanization Rate (%)|\n+------------+----+-------------------+----------------+-------------------+------------------+------------------+---------+------+-------------------+---------------------+----------------+----------------------+--------------+----------------------------+----------------------------------+-----------------+-----+--------------------------+-----------------------+---------------+---------------------+\n|      Mexico|2005|            Malaria|       Parasitic|              16.22|              6.09|              1.65|     0-18|  Male|             532373|                63.14|            4.72|                  6.39|       Surgery|                       11885|                               Yes|             60.1| 3379|                      7.96|                  62427|           0.77|                24.16|\n| South Korea|2003|           Diabetes|      Autoimmune|               4.36|              9.23|              4.18|      61+|Female|             697998|                91.17|            0.77|                   2.1|       Therapy|                       33659|                               Yes|            88.21| 1848|                      4.71|                   1473|           0.42|                83.07|\n|         USA|2017|             Asthma|      Autoimmune|               12.6|              2.01|              7.92|    19-35| Other|             174878|                81.59|            3.75|                   1.4|    Medication|                       21646|                                No|             52.2|  752|                      5.42|                  14182|           0.87|                26.45|\n|      Russia|2016|           HIV/AIDS|    Neurological|               8.67|             12.77|               3.4|    19-35|  Male|             943779|                75.91|            2.02|                  3.68|       Therapy|                       36724|                               Yes|             51.0| 3385|                      9.75|                  65164|           0.56|                36.83|\n|      Turkey|2004|Parkinson's Disease|     Respiratory|               9.63|               1.8|              6.27|     0-18|  Male|             395268|                95.18|            4.14|                  2.99|    Medication|                       25184|                               Yes|             74.6| 2467|                      4.66|                  12001|           0.54|                75.72|\n|   Indonesia|2001|       Tuberculosis|         Chronic|               9.01|              11.4|              3.04|     0-18| Other|             183579|                84.77|            4.11|                   2.7|       Therapy|                       46941|                                No|            70.97| 2076|                      1.95|                  90781|           0.74|                83.13|\n|   Argentina|2024|       Tuberculosis|       Parasitic|               3.12|               7.9|              8.91|      61+|  Male|             137462|                 80.5|             3.9|                  8.24|       Surgery|                       40204|                                No|            58.84| 3940|                      9.07|                  82186|           0.83|                29.04|\n|       India|2009|          Influenza|      Autoimmune|               0.66|              5.89|              1.07|    19-35|Female|             987678|                62.64|            1.99|                  3.59|   Vaccination|                       47366|                                No|            72.92| 1884|                      7.09|                  14774|            0.9|                86.75|\n|   Indonesia|2019|Alzheimer's Disease|           Viral|              18.21|              2.43|              9.87|     0-18|Female|             944614|                80.13|            3.21|                  2.98|    Medication|                        5862|                               Yes|             62.9| 4071|                      7.78|                  51256|           0.44|                48.22|\n|       China|2017|            Measles|       Metabolic|              16.03|              5.96|              0.73|    19-35|Female|             507150|                90.53|            4.87|                  3.27|       Therapy|                       40296|                               Yes|            65.06| 3012|                      1.41|                  37261|           0.76|                71.29|\n|     Nigeria|2023|           HIV/AIDS|         Genetic|                2.5|              3.06|              5.23|     0-18|Female|             562714|                73.99|            0.66|                  1.02|   Vaccination|                       22932|                                No|            97.18| 2741|                      1.03|                  51733|           0.72|                 32.0|\n|     Germany|2015|               Zika|       Parasitic|               2.16|              3.88|              8.26|     0-18| Other|             848847|                92.67|            1.89|                  3.22|       Surgery|                       30559|                                No|            72.06| 1378|                      4.59|                  89570|           0.81|                82.21|\n|      France|2011|          Influenza|         Chronic|              13.73|             10.18|              2.56|    19-35|Female|             365054|                 72.2|            1.12|                  3.87|       Surgery|                         395|                               Yes|             56.3| 2394|                      7.89|                  25623|           0.76|                75.77|\n|      Brazil|2013|Parkinson's Disease|  Cardiovascular|              13.15|              4.68|              5.58|      61+|  Male|             979684|                58.64|            1.86|                  7.19|       Therapy|                       40607|                               Yes|            65.85| 4191|                      7.89|                  76288|           0.54|                73.03|\n|      Turkey|2009|       Tuberculosis|    Neurological|               8.56|              5.57|              5.84|    36-60| Other|             576105|                98.67|            1.73|                  7.72|   Vaccination|                       26687|                               Yes|            96.44|  406|                      8.95|                  34840|           0.78|                58.29|\n|      Russia|2022|            Cholera|         Chronic|               0.92|             10.86|              3.64|     0-18|Female|             907334|                69.69|             5.0|                  5.81|    Medication|                       31889|                                No|            98.73| 4860|                      2.26|                  62634|           0.49|                57.16|\n|       India|2003|            Malaria|  Cardiovascular|              15.58|              5.52|               2.3|      61+|  Male|             116931|                59.43|            2.36|                  5.44|   Vaccination|                        5084|                               Yes|             82.3| 2914|                      7.75|                  27479|           0.74|                 61.5|\n|       China|2001|            Measles|         Genetic|              13.35|              3.28|              7.26|      61+|  Male|             724082|                51.07|            3.29|                  9.69|       Surgery|                       10803|                               Yes|            87.29| 1390|                      6.53|                   7296|           0.56|                79.79|\n|South Africa|2006|             Dengue|     Respiratory|              15.77|              2.31|               3.9|      61+|  Male|             682512|                94.84|            2.34|                  4.26|   Vaccination|                       29771|                                No|            87.46|   69|                      4.11|                  11803|           0.61|                44.94|\n|          UK|2015|          Influenza|  Cardiovascular|               8.36|             12.11|              7.46|      61+|  Male|             654538|                66.87|            2.59|                  8.28|   Vaccination|                       34082|                               Yes|            81.76|   99|                      4.31|                  44237|           0.61|                61.31|\n+------------+----+-------------------+----------------+-------------------+------------------+------------------+---------+------+-------------------+---------------------+----------------+----------------------+--------------+----------------------------+----------------------------------+-----------------+-----+--------------------------+-----------------------+---------------+---------------------+\nonly showing top 20 rows\n\n"
     ]
    }
   ],
   "source": [
    "# Import required libraries\n",
    "from pyspark.sql import SparkSession\n",
    "from pyspark.sql.functions import *\n",
    "\n",
    "# Initialize SparkSession (optional if already running in Databricks)\n",
    "spark = SparkSession.builder.appName(\"DataAnalysis\").getOrCreate()\n",
    "\n",
    "# Query the Delta table from the catalog\n",
    "df = spark.sql(\"SELECT * FROM final_project.default.global_health_statistics\")\n",
    "\n",
    "# Display the first few rows\n",
    "df.show()\n",
    "\n",
    "\n"
   ]
  },
  {
   "cell_type": "markdown",
   "metadata": {
    "application/vnd.databricks.v1+cell": {
     "cellMetadata": {},
     "inputWidgets": {},
     "nuid": "32d45814-a3d6-4ff1-abfc-d25d0a637c58",
     "showTitle": false,
     "tableResultSettingsMap": {},
     "title": ""
    }
   },
   "source": [
    "Top Diseases by Impact"
   ]
  },
  {
   "cell_type": "code",
   "execution_count": 0,
   "metadata": {
    "application/vnd.databricks.v1+cell": {
     "cellMetadata": {
      "byteLimit": 2048000,
      "rowLimit": 10000
     },
     "inputWidgets": {},
     "nuid": "5116779c-ef1e-43c0-b1db-f032810c4652",
     "showTitle": false,
     "tableResultSettingsMap": {},
     "title": ""
    }
   },
   "outputs": [
    {
     "output_type": "stream",
     "name": "stdout",
     "output_type": "stream",
     "text": [
      "+-------------------+-------------------+\n|       Disease Name|Avg Prevalence Rate|\n+-------------------+-------------------+\n|             Rabies|  10.09890725362682|\n|            Cholera| 10.088265438118167|\n|           HIV/AIDS| 10.078832000636504|\n|Parkinson's Disease| 10.069055282851867|\n|Alzheimer's Disease|  10.06439455673082|\n|             Dengue| 10.061142794646965|\n|             Cancer| 10.058251566073372|\n|              Ebola|  10.05788839249778|\n|            Measles| 10.057735242078166|\n|              Polio| 10.048862398911027|\n+-------------------+-------------------+\nonly showing top 10 rows\n\n+-------------------+------------------+\n|       Disease Name|Avg Mortality Rate|\n+-------------------+------------------+\n|Parkinson's Disease|  5.06933773235697|\n|             Cancer|5.0689332803022795|\n|             Rabies| 5.063906353176595|\n|          Influenza| 5.057569462529309|\n|               Zika| 5.056438097509588|\n|          Hepatitis| 5.054697618571135|\n|Alzheimer's Disease| 5.054600485719446|\n|           Diabetes| 5.054599360255898|\n|            Malaria|5.0542452150236326|\n|           COVID-19| 5.053742956908187|\n+-------------------+------------------+\nonly showing top 10 rows\n\n"
     ]
    }
   ],
   "source": [
    "# Top diseases by prevalence\n",
    "df.groupBy(\"Disease Name\").agg(mean(\"Prevalence Rate (%)\").alias(\"Avg Prevalence Rate\")).orderBy(\"Avg Prevalence Rate\", ascending=False).show(10)\n",
    "\n",
    "# Top diseases by mortality\n",
    "df.groupBy(\"Disease Name\").agg(mean(\"Mortality Rate (%)\").alias(\"Avg Mortality Rate\")).orderBy(\"Avg Mortality Rate\", ascending=False).show(10)\n"
   ]
  },
  {
   "cell_type": "markdown",
   "metadata": {
    "application/vnd.databricks.v1+cell": {
     "cellMetadata": {},
     "inputWidgets": {},
     "nuid": "44916650-674d-4066-a4e8-725c9afe1c8d",
     "showTitle": false,
     "tableResultSettingsMap": {},
     "title": ""
    }
   },
   "source": [
    "Effectiveness of Vaccines and Treatments"
   ]
  },
  {
   "cell_type": "code",
   "execution_count": 0,
   "metadata": {
    "application/vnd.databricks.v1+cell": {
     "cellMetadata": {
      "byteLimit": 2048000,
      "rowLimit": 10000
     },
     "inputWidgets": {},
     "nuid": "9521fb8e-e844-4012-9253-286c9163a323",
     "showTitle": false,
     "tableResultSettingsMap": {},
     "title": ""
    }
   },
   "outputs": [
    {
     "output_type": "stream",
     "name": "stdout",
     "output_type": "stream",
     "text": [
      "+----------------------------------+-----------------+\n|Availability of Vaccines/Treatment|Avg Recovery Rate|\n+----------------------------------+-----------------+\n|                                No|74.48564974001535|\n|                               Yes|74.50820187307393|\n+----------------------------------+-----------------+\n\n"
     ]
    }
   ],
   "source": [
    "# Recovery rates by vaccine/treatment availability\n",
    "df.groupBy(\"Availability of Vaccines/Treatment\").agg(mean(\"Recovery Rate (%)\").alias(\"Avg Recovery Rate\")).show()\n"
   ]
  },
  {
   "cell_type": "markdown",
   "metadata": {
    "application/vnd.databricks.v1+cell": {
     "cellMetadata": {},
     "inputWidgets": {},
     "nuid": "a4798c09-c3d7-49af-84ae-2d8ddc3d42d7",
     "showTitle": false,
     "tableResultSettingsMap": {},
     "title": ""
    }
   },
   "source": [
    " Regional Analysis of a Disease"
   ]
  },
  {
   "cell_type": "code",
   "execution_count": 0,
   "metadata": {
    "application/vnd.databricks.v1+cell": {
     "cellMetadata": {
      "byteLimit": 2048000,
      "rowLimit": 10000
     },
     "inputWidgets": {},
     "nuid": "5eedb3af-690a-4681-9f56-073db9caddca",
     "showTitle": false,
     "tableResultSettingsMap": {},
     "title": ""
    }
   },
   "outputs": [
    {
     "output_type": "stream",
     "name": "stdout",
     "output_type": "stream",
     "text": [
      "+------------+------------------+\n|     Country|    Avg Prevalence|\n+------------+------------------+\n|       Italy|10.226711327649205|\n|       India|10.223795761078993|\n|       Japan|10.140816246056778|\n|      Canada|10.121070853462157|\n|      Russia|10.112215312864361|\n|      Brazil| 10.10954102355808|\n|      Mexico|10.094845779220782|\n|   Indonesia|10.043700950020657|\n| South Korea| 10.02653784860558|\n|   Australia|10.011761942051685|\n|      Turkey| 9.988912956277575|\n|South Africa|  9.97534524776604|\n|     Nigeria|  9.97390996248437|\n|          UK| 9.963371496249506|\n|       China| 9.918346938775514|\n|Saudi Arabia| 9.918204704911265|\n|         USA| 9.876732793522269|\n|   Argentina| 9.876645694062127|\n|      France| 9.874431909750196|\n|     Germany| 9.859170923379173|\n+------------+------------------+\n\n"
     ]
    }
   ],
   "source": [
    "# Regional analysis for a specific disease\n",
    "disease = \"Tuberculosis\"  # Replace with your disease of interest\n",
    "df.filter(df[\"Disease Name\"] == disease).groupBy(\"Country\").agg(mean(\"Prevalence Rate (%)\").alias(\"Avg Prevalence\")).orderBy(\"Avg Prevalence\", ascending=False).show()\n"
   ]
  },
  {
   "cell_type": "markdown",
   "metadata": {
    "application/vnd.databricks.v1+cell": {
     "cellMetadata": {},
     "inputWidgets": {},
     "nuid": "2e84ec5e-f1c0-4442-8689-36e164adddf1",
     "showTitle": false,
     "tableResultSettingsMap": {},
     "title": ""
    }
   },
   "source": [
    "Disease Trends"
   ]
  },
  {
   "cell_type": "code",
   "execution_count": 0,
   "metadata": {
    "application/vnd.databricks.v1+cell": {
     "cellMetadata": {
      "byteLimit": 2048000,
      "rowLimit": 10000
     },
     "inputWidgets": {},
     "nuid": "11d75f5e-fc40-46a9-99e6-d7eca4ab383c",
     "showTitle": false,
     "tableResultSettingsMap": {},
     "title": ""
    }
   },
   "outputs": [
    {
     "output_type": "stream",
     "name": "stdout",
     "output_type": "stream",
     "text": [
      "+----+-------------------+\n|Year|Avg Prevalence Rate|\n+----+-------------------+\n|2000| 10.038363216449785|\n|2001|  10.11728769801484|\n|2002|  10.05502159099418|\n|2003| 10.046103485214621|\n|2004|  10.05270140641002|\n|2005| 10.032667649042178|\n|2006| 10.059378858699734|\n|2007| 10.037947492260052|\n|2008| 10.025843921509674|\n|2009|  10.06484168766684|\n|2010| 10.039032379329369|\n|2011|   9.99733091239217|\n|2012| 10.092937313582485|\n|2013| 10.055976388083037|\n|2014| 10.031369555908208|\n|2015|  10.03066418171812|\n|2016|  9.991070199071995|\n|2017| 10.105064765538712|\n|2018| 10.053803321069923|\n|2019| 10.064259347255218|\n+----+-------------------+\nonly showing top 20 rows\n\n"
     ]
    }
   ],
   "source": [
    "# Yearly trends in prevalence rate\n",
    "df.groupBy(\"Year\").agg(mean(\"Prevalence Rate (%)\").alias(\"Avg Prevalence Rate\")).orderBy(\"Year\").show()\n"
   ]
  },
  {
   "cell_type": "markdown",
   "metadata": {
    "application/vnd.databricks.v1+cell": {
     "cellMetadata": {},
     "inputWidgets": {},
     "nuid": "d8a6fc84-04d6-4397-bf6b-6ecdfff83124",
     "showTitle": false,
     "tableResultSettingsMap": {},
     "title": ""
    }
   },
   "source": [
    "Gender Disparities"
   ]
  },
  {
   "cell_type": "code",
   "execution_count": 0,
   "metadata": {
    "application/vnd.databricks.v1+cell": {
     "cellMetadata": {
      "byteLimit": 2048000,
      "rowLimit": 10000
     },
     "inputWidgets": {},
     "nuid": "e2a5c583-ad5f-4ea4-8807-f5d0575ee38a",
     "showTitle": false,
     "tableResultSettingsMap": {},
     "title": ""
    }
   },
   "outputs": [
    {
     "output_type": "stream",
     "name": "stdout",
     "output_type": "stream",
     "text": [
      "+------+-------------------+------------------+-----------------+\n|Gender|Avg Prevalence Rate|Avg Mortality Rate|Avg Recovery Rate|\n+------+-------------------+------------------+-----------------+\n|Female| 10.051657448615535| 5.043412069394948|74.44995816615345|\n| Other|  10.03810471898917| 5.053477203610858|74.50819661303923|\n|  Male| 10.054201351011145| 5.052864605185814|74.53260222491379|\n+------+-------------------+------------------+-----------------+\n\n"
     ]
    }
   ],
   "source": [
    "# Disease metrics by gender\n",
    "df.groupBy(\"Gender\").agg(\n",
    "    mean(\"Prevalence Rate (%)\").alias(\"Avg Prevalence Rate\"),\n",
    "    mean(\"Mortality Rate (%)\").alias(\"Avg Mortality Rate\"),\n",
    "    mean(\"Recovery Rate (%)\").alias(\"Avg Recovery Rate\")\n",
    ").show()\n"
   ]
  },
  {
   "cell_type": "markdown",
   "metadata": {
    "application/vnd.databricks.v1+cell": {
     "cellMetadata": {},
     "inputWidgets": {},
     "nuid": "20add713-429e-4e20-92e1-88237f7c061c",
     "showTitle": false,
     "tableResultSettingsMap": {},
     "title": ""
    }
   },
   "source": [
    "Top Performing Countries"
   ]
  },
  {
   "cell_type": "code",
   "execution_count": 0,
   "metadata": {
    "application/vnd.databricks.v1+cell": {
     "cellMetadata": {
      "byteLimit": 2048000,
      "rowLimit": 10000
     },
     "inputWidgets": {},
     "nuid": "e61be818-a767-445f-91de-efec5d70b424",
     "showTitle": false,
     "tableResultSettingsMap": {},
     "title": ""
    }
   },
   "outputs": [
    {
     "output_type": "stream",
     "name": "stdout",
     "output_type": "stream",
     "text": [
      "+------------+------------------+------------------+-----------------+\n|     Country|    Avg Prevalence|     Avg Mortality|     Avg Recovery|\n+------------+------------------+------------------+-----------------+\n|   Indonesia| 10.03921396414502| 5.050056877562511|74.60450076372683|\n|Saudi Arabia|10.015586492653831|5.0338063973738105|74.60434905320463|\n|       Italy|10.057821384859242| 5.033974397560154|74.56533899155275|\n|     Germany|10.063281648596908|5.0623638791454075|74.55059889190053|\n|       China|10.004088603043984| 5.052352894179684|74.53306934846007|\n|   Argentina|10.047871400457877| 5.043000120486759|74.52912084822685|\n|      Canada|10.043381091112238| 5.039311170531193|74.51206050205518|\n|      Mexico| 10.13214416932906| 5.060097843450479|74.50984824281149|\n|         USA| 10.03176406948092|5.0353713461422895|74.50653957886749|\n|   Australia|  9.99765179268513| 5.053099713730918|74.49263687866572|\n+------------+------------------+------------------+-----------------+\nonly showing top 10 rows\n\n"
     ]
    }
   ],
   "source": [
    "# Rank countries by health outcomes\n",
    "df.groupBy(\"Country\").agg(\n",
    "    mean(\"Prevalence Rate (%)\").alias(\"Avg Prevalence\"),\n",
    "    mean(\"Mortality Rate (%)\").alias(\"Avg Mortality\"),\n",
    "    mean(\"Recovery Rate (%)\").alias(\"Avg Recovery\")\n",
    ").orderBy(\"Avg Recovery\", ascending=False).show(10)\n"
   ]
  },
  {
   "cell_type": "code",
   "execution_count": 0,
   "metadata": {
    "application/vnd.databricks.v1+cell": {
     "cellMetadata": {
      "byteLimit": 2048000,
      "rowLimit": 10000
     },
     "inputWidgets": {},
     "nuid": "cb5df3e7-a83f-4a95-a01e-1130190e10df",
     "showTitle": false,
     "tableResultSettingsMap": {},
     "title": ""
    }
   },
   "outputs": [
    {
     "output_type": "stream",
     "name": "stdout",
     "output_type": "stream",
     "text": [
      "+------------+------------------+----------+\n|     Country|          features|prediction|\n+------------+------------------+----------+\n|       Italy| [0.95,8.42,91.82]|         0|\n|      France|[12.46,8.75,76.65]|         2|\n|      Turkey| [0.91,6.22,98.55]|         0|\n|   Indonesia| [4.68,3.99,67.35]|         2|\n|       Italy| [0.83,7.01,50.06]|         1|\n|Saudi Arabia|[10.99,4.64,93.17]|         0|\n|         USA| [18.42,9.33,92.8]|         0|\n|     Nigeria| [3.48,1.21,65.45]|         1|\n|       Italy|[15.59,6.38,59.23]|         1|\n|   Australia| [10.12,6.0,93.21]|         0|\n|      Canada|[11.15,2.97,76.16]|         2|\n|      Mexico| [3.88,1.85,63.54]|         1|\n|     Nigeria| [8.92,5.52,68.02]|         2|\n|      France|  [11.4,7.77,52.4]|         1|\n|   Australia|[17.27,7.08,58.19]|         1|\n|         USA| [1.82,7.01,87.75]|         0|\n|     Nigeria| [15.18,8.21,50.8]|         1|\n|   Australia|[13.39,4.04,58.67]|         1|\n|      France| [14.44,2.21,54.8]|         1|\n|   Indonesia| [3.24,2.12,92.95]|         0|\n+------------+------------------+----------+\nonly showing top 20 rows\n\n"
     ]
    }
   ],
   "source": [
    "from pyspark.ml.clustering import KMeans\n",
    "from pyspark.ml.feature import VectorAssembler\n",
    "\n",
    "# Prepare data for clustering\n",
    "assembler = VectorAssembler(inputCols=[\"Prevalence Rate (%)\", \"Mortality Rate (%)\", \"Recovery Rate (%)\"], outputCol=\"features\")\n",
    "clustering_data = assembler.transform(df)\n",
    "\n",
    "# Apply KMeans\n",
    "kmeans = KMeans().setK(3).setSeed(1)\n",
    "model = kmeans.fit(clustering_data)\n",
    "clusters = model.transform(clustering_data)\n",
    "\n",
    "# Show clustering results\n",
    "clusters.select(\"Country\", \"features\", \"prediction\").show()\n"
   ]
  }
 ],
 "metadata": {
  "application/vnd.databricks.v1+notebook": {
   "computePreferences": null,
   "dashboards": [],
   "environmentMetadata": {
    "base_environment": "",
    "client": "1"
   },
   "language": "python",
   "notebookMetadata": {
    "pythonIndentUnit": 4
   },
   "notebookName": "Final-project-notebook",
   "widgets": {}
  },
  "language_info": {
   "name": "python"
  }
 },
 "nbformat": 4,
 "nbformat_minor": 0
}